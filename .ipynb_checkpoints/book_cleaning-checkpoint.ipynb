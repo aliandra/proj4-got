{
 "cells": [
  {
   "cell_type": "code",
   "execution_count": 167,
   "metadata": {
    "collapsed": false
   },
   "outputs": [],
   "source": [
    "import re\n",
    "import codecs\n",
    "import pandas as pd\n",
    "from textblob import TextBlob\n",
    "import json\n",
    "import matplotlib.pyplot as plt\n",
    "import seaborn as sns\n",
    "\n",
    "%matplotlib inline\n",
    "\n",
    "pd.options.display.float_format = '{:20,.2f}'.format\n",
    "pd.options.display.max_columns = 100\n",
    "pd.options.display.max_rows = 500"
   ]
  },
  {
   "cell_type": "code",
   "execution_count": 150,
   "metadata": {
    "collapsed": false
   },
   "outputs": [],
   "source": [
    "\n",
    "def make_df(filename):\n",
    "    # make list of chapters\n",
    "    book = make_file(filename)\n",
    "    \n",
    "    # turn book into dataframe\n",
    "    book_df = pd.DataFrame(book)\n",
    "    book_df.columns = ['chapter_text']\n",
    "    \n",
    "    # add column with chapter's POV character\n",
    "    book_df['chapter_name'] = book_df['chapter_text'].apply(chap_char)\n",
    "    \n",
    "    # add column with book title\n",
    "    title = book_df.ix[0, 1]\n",
    "    book_df['book_title'] = title\n",
    "    \n",
    "    # drop first row with book basic info\n",
    "    book_df.drop(0, inplace=True)\n",
    "    \n",
    "    # add column with chapter number\n",
    "    book_df['chapter_num'] = book_df.index\n",
    "    book_df = book_df[['book_title', 'chapter_num', 'chapter_name', 'chapter_text']]\n",
    "    \n",
    "    return book_df\n",
    "\n",
    "    \n",
    "def make_file(filename):\n",
    "    # read in book text by line\n",
    "    with codecs.open(filename, mode='r') as f:\n",
    "        txt = f.read().splitlines()\n",
    "    \n",
    "    # concatinate lines in the same chapter\n",
    "    book = []\n",
    "    # initialize to false for first chapter\n",
    "    end = False \n",
    "    \n",
    "    for i in range(0, len(txt)):\n",
    "        # remove page numbers and chapter headers\n",
    "        txt[i] = re.sub('Page [0-9]*', '', txt[i])\n",
    "        txt[i] = re.sub('Chapter [0-9]*', '', txt[i])\n",
    "        \n",
    "        # skip blank lines\n",
    "        if not txt[i] or re.match(\"^ *$\", txt[i]):\n",
    "            continue\n",
    "        \n",
    "        # find chapter begining which start with character name capitalized\n",
    "        elif re.match(\"^[ A-Z]*$\", txt[i]):\n",
    "            if end:\n",
    "                # append previous chapter to list (false for first chapter)\n",
    "                book.append(chapter) \n",
    "            # start new chapter\n",
    "            chapter = txt[i]\n",
    "            # set end to true for subsequent chapters after first chapter\n",
    "            end = True\n",
    "        \n",
    "        # if not begining of chapter, add lines to chapter\n",
    "        else:\n",
    "            chapter = chapter + txt[i]\n",
    "    book.append(chapter)\n",
    "    return book\n",
    "\n",
    "\n",
    "def chap_char(x):\n",
    "    # Find character name in all caps\n",
    "    name = re.findall(r'^[ A-Z]*', x)\n",
    "    \n",
    "    # clean name\n",
    "    name = name[0]\n",
    "    name = name[:-1]\n",
    "    name = name.strip()\n",
    "    if name[-2:] == ' A':\n",
    "        name = name[:-2]\n",
    "        name = name.strip()\n",
    "    \n",
    "    return name"
   ]
  },
  {
   "cell_type": "code",
   "execution_count": 151,
   "metadata": {
    "collapsed": false
   },
   "outputs": [],
   "source": [
    "file1 = \"GOTbooks/001ssb.txt\"\n",
    "file2 = \"GOTbooks/002ssb.txt\"\n",
    "file3 = \"GOTbooks/003ssb.txt\"\n",
    "file4 = \"GOTbooks/004ssb.txt\"\n",
    "file5 = \"GOTbooks/005ssb.txt\"\n",
    "\n",
    "game_of_thrones = make_df(file1)\n",
    "clash_of_kings = make_df(file2)\n",
    "storm_of_swords = make_df(file3)\n",
    "feast_for_crows = make_df(file4)\n",
    "dance_with_dragons = make_df(file5)\n"
   ]
  },
  {
   "cell_type": "code",
   "execution_count": 152,
   "metadata": {
    "collapsed": false,
    "scrolled": false
   },
   "outputs": [],
   "source": [
    "book_names = [game_of_thrones, clash_of_kings, storm_of_swords, feast_for_crows, dance_with_dragons]\n",
    "ice_and_fire = pd.concat(book_names)\n",
    "ice_and_fire.reset_index(inplace=True, drop=True)"
   ]
  },
  {
   "cell_type": "code",
   "execution_count": 153,
   "metadata": {
    "collapsed": false
   },
   "outputs": [
    {
     "data": {
      "text/html": [
       "<div>\n",
       "<table border=\"1\" class=\"dataframe\">\n",
       "  <thead>\n",
       "    <tr style=\"text-align: right;\">\n",
       "      <th></th>\n",
       "      <th>book_title</th>\n",
       "      <th>chapter_num</th>\n",
       "      <th>chapter_name</th>\n",
       "      <th>chapter_text</th>\n",
       "    </tr>\n",
       "  </thead>\n",
       "  <tbody>\n",
       "    <tr>\n",
       "      <th>0</th>\n",
       "      <td>A GAME OF THRONES</td>\n",
       "      <td>1</td>\n",
       "      <td>PROLOGUE</td>\n",
       "      <td>PROLOGUE \"We should start back,\" Gared urged a...</td>\n",
       "    </tr>\n",
       "    <tr>\n",
       "      <th>1</th>\n",
       "      <td>A GAME OF THRONES</td>\n",
       "      <td>2</td>\n",
       "      <td>BRAN</td>\n",
       "      <td>BRAN The morning had dawned clear and cold, wi...</td>\n",
       "    </tr>\n",
       "    <tr>\n",
       "      <th>2</th>\n",
       "      <td>A GAME OF THRONES</td>\n",
       "      <td>3</td>\n",
       "      <td>CATELYN</td>\n",
       "      <td>CATELYN Catelyn had never liked this godswood....</td>\n",
       "    </tr>\n",
       "    <tr>\n",
       "      <th>3</th>\n",
       "      <td>A GAME OF THRONES</td>\n",
       "      <td>4</td>\n",
       "      <td>DAENERYS</td>\n",
       "      <td>DAENERYS Her brother held the gown up for her ...</td>\n",
       "    </tr>\n",
       "    <tr>\n",
       "      <th>4</th>\n",
       "      <td>A GAME OF THRONES</td>\n",
       "      <td>5</td>\n",
       "      <td>EDDARD</td>\n",
       "      <td>EDDARD The visitors poured through the castle ...</td>\n",
       "    </tr>\n",
       "  </tbody>\n",
       "</table>\n",
       "</div>"
      ],
      "text/plain": [
       "          book_title  chapter_num chapter_name  \\\n",
       "0  A GAME OF THRONES            1     PROLOGUE   \n",
       "1  A GAME OF THRONES            2         BRAN   \n",
       "2  A GAME OF THRONES            3      CATELYN   \n",
       "3  A GAME OF THRONES            4     DAENERYS   \n",
       "4  A GAME OF THRONES            5       EDDARD   \n",
       "\n",
       "                                        chapter_text  \n",
       "0  PROLOGUE \"We should start back,\" Gared urged a...  \n",
       "1  BRAN The morning had dawned clear and cold, wi...  \n",
       "2  CATELYN Catelyn had never liked this godswood....  \n",
       "3  DAENERYS Her brother held the gown up for her ...  \n",
       "4  EDDARD The visitors poured through the castle ...  "
      ]
     },
     "execution_count": 153,
     "metadata": {},
     "output_type": "execute_result"
    }
   ],
   "source": [
    "ice_and_fire.head()"
   ]
  },
  {
   "cell_type": "code",
   "execution_count": 154,
   "metadata": {
    "collapsed": false
   },
   "outputs": [
    {
     "data": {
      "text/plain": [
       "(344, 4)"
      ]
     },
     "execution_count": 154,
     "metadata": {},
     "output_type": "execute_result"
    }
   ],
   "source": [
    "ice_and_fire.shape"
   ]
  },
  {
   "cell_type": "code",
   "execution_count": 155,
   "metadata": {
    "collapsed": false
   },
   "outputs": [
    {
     "data": {
      "text/html": [
       "<div>\n",
       "<table border=\"1\" class=\"dataframe\">\n",
       "  <thead>\n",
       "    <tr style=\"text-align: right;\">\n",
       "      <th></th>\n",
       "      <th>book</th>\n",
       "      <th>chronology</th>\n",
       "      <th>pov</th>\n",
       "      <th>setting</th>\n",
       "    </tr>\n",
       "  </thead>\n",
       "  <tbody>\n",
       "    <tr>\n",
       "      <th>0</th>\n",
       "      <td>A Game of Thrones</td>\n",
       "      <td>Prologue</td>\n",
       "      <td>Will</td>\n",
       "      <td>Haunted forest</td>\n",
       "    </tr>\n",
       "    <tr>\n",
       "      <th>1</th>\n",
       "      <td>A Game of Thrones</td>\n",
       "      <td>Bran I</td>\n",
       "      <td>Bran Stark</td>\n",
       "      <td>Winterfell</td>\n",
       "    </tr>\n",
       "    <tr>\n",
       "      <th>2</th>\n",
       "      <td>A Game of Thrones</td>\n",
       "      <td>Catelyn I</td>\n",
       "      <td>Catelyn Stark</td>\n",
       "      <td>Winterfell</td>\n",
       "    </tr>\n",
       "    <tr>\n",
       "      <th>3</th>\n",
       "      <td>A Game of Thrones</td>\n",
       "      <td>Daenerys I</td>\n",
       "      <td>Daenerys Targaryen</td>\n",
       "      <td>Pentos</td>\n",
       "    </tr>\n",
       "    <tr>\n",
       "      <th>4</th>\n",
       "      <td>A Game of Thrones</td>\n",
       "      <td>Eddard I</td>\n",
       "      <td>Eddard Stark</td>\n",
       "      <td>Winterfell</td>\n",
       "    </tr>\n",
       "  </tbody>\n",
       "</table>\n",
       "</div>"
      ],
      "text/plain": [
       "                book  chronology                 pov         setting\n",
       "0  A Game of Thrones    Prologue                Will  Haunted forest\n",
       "1  A Game of Thrones      Bran I          Bran Stark      Winterfell\n",
       "2  A Game of Thrones   Catelyn I       Catelyn Stark      Winterfell\n",
       "3  A Game of Thrones  Daenerys I  Daenerys Targaryen          Pentos\n",
       "4  A Game of Thrones    Eddard I        Eddard Stark      Winterfell"
      ]
     },
     "execution_count": 155,
     "metadata": {},
     "output_type": "execute_result"
    }
   ],
   "source": [
    "with open('GOTscrapy/got_wiki.json') as filename:\n",
    "    json_data = json.load(filename)\n",
    "\n",
    "df = pd.DataFrame(json_data)\n",
    "df.head()"
   ]
  },
  {
   "cell_type": "code",
   "execution_count": 156,
   "metadata": {
    "collapsed": false
   },
   "outputs": [
    {
     "data": {
      "text/plain": [
       "(344, 4)"
      ]
     },
     "execution_count": 156,
     "metadata": {},
     "output_type": "execute_result"
    }
   ],
   "source": [
    "df.shape"
   ]
  },
  {
   "cell_type": "code",
   "execution_count": 157,
   "metadata": {
    "collapsed": false
   },
   "outputs": [],
   "source": [
    "ice_and_fire = ice_and_fire.join(df)"
   ]
  },
  {
   "cell_type": "code",
   "execution_count": 158,
   "metadata": {
    "collapsed": true
   },
   "outputs": [],
   "source": [
    "ice_and_fire.drop(['book'], axis=1, inplace=True)\n",
    "df_names = ['book_title', 'chapter_num', 'chapter_name', 'pov', 'chronology', 'setting', 'chapter_text']\n",
    "ice_and_fire = ice_and_fire[df_names]"
   ]
  },
  {
   "cell_type": "code",
   "execution_count": 159,
   "metadata": {
    "collapsed": false
   },
   "outputs": [
    {
     "data": {
      "text/html": [
       "<div>\n",
       "<table border=\"1\" class=\"dataframe\">\n",
       "  <thead>\n",
       "    <tr style=\"text-align: right;\">\n",
       "      <th></th>\n",
       "      <th>book_title</th>\n",
       "      <th>chapter_num</th>\n",
       "      <th>chapter_name</th>\n",
       "      <th>pov</th>\n",
       "      <th>chronology</th>\n",
       "      <th>setting</th>\n",
       "      <th>chapter_text</th>\n",
       "    </tr>\n",
       "  </thead>\n",
       "  <tbody>\n",
       "    <tr>\n",
       "      <th>0</th>\n",
       "      <td>A GAME OF THRONES</td>\n",
       "      <td>1</td>\n",
       "      <td>PROLOGUE</td>\n",
       "      <td>Will</td>\n",
       "      <td>Prologue</td>\n",
       "      <td>Haunted forest</td>\n",
       "      <td>PROLOGUE \"We should start back,\" Gared urged a...</td>\n",
       "    </tr>\n",
       "    <tr>\n",
       "      <th>1</th>\n",
       "      <td>A GAME OF THRONES</td>\n",
       "      <td>2</td>\n",
       "      <td>BRAN</td>\n",
       "      <td>Bran Stark</td>\n",
       "      <td>Bran I</td>\n",
       "      <td>Winterfell</td>\n",
       "      <td>BRAN The morning had dawned clear and cold, wi...</td>\n",
       "    </tr>\n",
       "    <tr>\n",
       "      <th>2</th>\n",
       "      <td>A GAME OF THRONES</td>\n",
       "      <td>3</td>\n",
       "      <td>CATELYN</td>\n",
       "      <td>Catelyn Stark</td>\n",
       "      <td>Catelyn I</td>\n",
       "      <td>Winterfell</td>\n",
       "      <td>CATELYN Catelyn had never liked this godswood....</td>\n",
       "    </tr>\n",
       "    <tr>\n",
       "      <th>3</th>\n",
       "      <td>A GAME OF THRONES</td>\n",
       "      <td>4</td>\n",
       "      <td>DAENERYS</td>\n",
       "      <td>Daenerys Targaryen</td>\n",
       "      <td>Daenerys I</td>\n",
       "      <td>Pentos</td>\n",
       "      <td>DAENERYS Her brother held the gown up for her ...</td>\n",
       "    </tr>\n",
       "    <tr>\n",
       "      <th>4</th>\n",
       "      <td>A GAME OF THRONES</td>\n",
       "      <td>5</td>\n",
       "      <td>EDDARD</td>\n",
       "      <td>Eddard Stark</td>\n",
       "      <td>Eddard I</td>\n",
       "      <td>Winterfell</td>\n",
       "      <td>EDDARD The visitors poured through the castle ...</td>\n",
       "    </tr>\n",
       "  </tbody>\n",
       "</table>\n",
       "</div>"
      ],
      "text/plain": [
       "          book_title  chapter_num chapter_name                 pov  \\\n",
       "0  A GAME OF THRONES            1     PROLOGUE                Will   \n",
       "1  A GAME OF THRONES            2         BRAN          Bran Stark   \n",
       "2  A GAME OF THRONES            3      CATELYN       Catelyn Stark   \n",
       "3  A GAME OF THRONES            4     DAENERYS  Daenerys Targaryen   \n",
       "4  A GAME OF THRONES            5       EDDARD        Eddard Stark   \n",
       "\n",
       "   chronology         setting  \\\n",
       "0    Prologue  Haunted forest   \n",
       "1      Bran I      Winterfell   \n",
       "2   Catelyn I      Winterfell   \n",
       "3  Daenerys I          Pentos   \n",
       "4    Eddard I      Winterfell   \n",
       "\n",
       "                                        chapter_text  \n",
       "0  PROLOGUE \"We should start back,\" Gared urged a...  \n",
       "1  BRAN The morning had dawned clear and cold, wi...  \n",
       "2  CATELYN Catelyn had never liked this godswood....  \n",
       "3  DAENERYS Her brother held the gown up for her ...  \n",
       "4  EDDARD The visitors poured through the castle ...  "
      ]
     },
     "execution_count": 159,
     "metadata": {},
     "output_type": "execute_result"
    }
   ],
   "source": [
    "ice_and_fire.head()"
   ]
  },
  {
   "cell_type": "code",
   "execution_count": 168,
   "metadata": {
    "collapsed": false
   },
   "outputs": [
    {
     "data": {
      "image/png": "[encoded data removed]",
      "text/plain": [
       "<matplotlib.figure.Figure at 0x7fa3d0c13d50>"
      ]
     },
     "metadata": {},
     "output_type": "display_data"
    }
   ],
   "source": [
    "ice_and_fire.pov.value_counts().plot(kind='bar');"
   ]
  },
  {
   "cell_type": "code",
   "execution_count": 171,
   "metadata": {
    "collapsed": true
   },
   "outputs": [],
   "source": [
    "ice_and_fire['polarity'] = ice_and_fire['chapter_text'].apply(lambda x: TextBlob(x).sentiment[0])\n",
    "ice_and_fire['subjectivity'] = ice_and_fire['chapter_text'].apply(lambda x: TextBlob(x).sentiment[1])"
   ]
  },
  {
   "cell_type": "code",
   "execution_count": 172,
   "metadata": {
    "collapsed": false
   },
   "outputs": [
    {
     "data": {
      "text/html": [
       "<div>\n",
       "<table border=\"1\" class=\"dataframe\">\n",
       "  <thead>\n",
       "    <tr style=\"text-align: right;\">\n",
       "      <th></th>\n",
       "      <th>book_title</th>\n",
       "      <th>chapter_num</th>\n",
       "      <th>chapter_name</th>\n",
       "      <th>pov</th>\n",
       "      <th>chronology</th>\n",
       "      <th>setting</th>\n",
       "      <th>chapter_text</th>\n",
       "      <th>sentiment</th>\n",
       "      <th>polarity</th>\n",
       "    </tr>\n",
       "  </thead>\n",
       "  <tbody>\n",
       "    <tr>\n",
       "      <th>0</th>\n",
       "      <td>A GAME OF THRONES</td>\n",
       "      <td>1</td>\n",
       "      <td>PROLOGUE</td>\n",
       "      <td>Will</td>\n",
       "      <td>Prologue</td>\n",
       "      <td>Haunted forest</td>\n",
       "      <td>PROLOGUE \"We should start back,\" Gared urged a...</td>\n",
       "      <td>(-0.0315859681686, 0.467877944188)</td>\n",
       "      <td>-0.03</td>\n",
       "    </tr>\n",
       "    <tr>\n",
       "      <th>1</th>\n",
       "      <td>A GAME OF THRONES</td>\n",
       "      <td>2</td>\n",
       "      <td>BRAN</td>\n",
       "      <td>Bran Stark</td>\n",
       "      <td>Bran I</td>\n",
       "      <td>Winterfell</td>\n",
       "      <td>BRAN The morning had dawned clear and cold, wi...</td>\n",
       "      <td>(0.00530518158466, 0.485977765683)</td>\n",
       "      <td>0.01</td>\n",
       "    </tr>\n",
       "    <tr>\n",
       "      <th>2</th>\n",
       "      <td>A GAME OF THRONES</td>\n",
       "      <td>3</td>\n",
       "      <td>CATELYN</td>\n",
       "      <td>Catelyn Stark</td>\n",
       "      <td>Catelyn I</td>\n",
       "      <td>Winterfell</td>\n",
       "      <td>CATELYN Catelyn had never liked this godswood....</td>\n",
       "      <td>(0.0498116335142, 0.473006831425)</td>\n",
       "      <td>0.05</td>\n",
       "    </tr>\n",
       "    <tr>\n",
       "      <th>3</th>\n",
       "      <td>A GAME OF THRONES</td>\n",
       "      <td>4</td>\n",
       "      <td>DAENERYS</td>\n",
       "      <td>Daenerys Targaryen</td>\n",
       "      <td>Daenerys I</td>\n",
       "      <td>Pentos</td>\n",
       "      <td>DAENERYS Her brother held the gown up for her ...</td>\n",
       "      <td>(0.0720314449356, 0.461634488266)</td>\n",
       "      <td>0.07</td>\n",
       "    </tr>\n",
       "    <tr>\n",
       "      <th>4</th>\n",
       "      <td>A GAME OF THRONES</td>\n",
       "      <td>5</td>\n",
       "      <td>EDDARD</td>\n",
       "      <td>Eddard Stark</td>\n",
       "      <td>Eddard I</td>\n",
       "      <td>Winterfell</td>\n",
       "      <td>EDDARD The visitors poured through the castle ...</td>\n",
       "      <td>(0.0442158132354, 0.516024064897)</td>\n",
       "      <td>0.04</td>\n",
       "    </tr>\n",
       "  </tbody>\n",
       "</table>\n",
       "</div>"
      ],
      "text/plain": [
       "          book_title  chapter_num chapter_name                 pov  \\\n",
       "0  A GAME OF THRONES            1     PROLOGUE                Will   \n",
       "1  A GAME OF THRONES            2         BRAN          Bran Stark   \n",
       "2  A GAME OF THRONES            3      CATELYN       Catelyn Stark   \n",
       "3  A GAME OF THRONES            4     DAENERYS  Daenerys Targaryen   \n",
       "4  A GAME OF THRONES            5       EDDARD        Eddard Stark   \n",
       "\n",
       "   chronology         setting  \\\n",
       "0    Prologue  Haunted forest   \n",
       "1      Bran I      Winterfell   \n",
       "2   Catelyn I      Winterfell   \n",
       "3  Daenerys I          Pentos   \n",
       "4    Eddard I      Winterfell   \n",
       "\n",
       "                                        chapter_text  \\\n",
       "0  PROLOGUE \"We should start back,\" Gared urged a...   \n",
       "1  BRAN The morning had dawned clear and cold, wi...   \n",
       "2  CATELYN Catelyn had never liked this godswood....   \n",
       "3  DAENERYS Her brother held the gown up for her ...   \n",
       "4  EDDARD The visitors poured through the castle ...   \n",
       "\n",
       "                            sentiment             polarity  \n",
       "0  (-0.0315859681686, 0.467877944188)                -0.03  \n",
       "1  (0.00530518158466, 0.485977765683)                 0.01  \n",
       "2   (0.0498116335142, 0.473006831425)                 0.05  \n",
       "3   (0.0720314449356, 0.461634488266)                 0.07  \n",
       "4   (0.0442158132354, 0.516024064897)                 0.04  "
      ]
     },
     "execution_count": 172,
     "metadata": {},
     "output_type": "execute_result"
    }
   ],
   "source": [
    "ice_and_fire.head()"
   ]
  },
  {
   "cell_type": "code",
   "execution_count": null,
   "metadata": {
    "collapsed": true
   },
   "outputs": [],
   "source": []
  }
 ],
 "metadata": {
  "anaconda-cloud": {},
  "kernelspec": {
   "display_name": "Python [conda root]",
   "language": "python",
   "name": "conda-root-py"
  },
  "language_info": {
   "codemirror_mode": {
    "name": "ipython",
    "version": 2
   },
   "file_extension": ".py",
   "mimetype": "text/x-python",
   "name": "python",
   "nbconvert_exporter": "python",
   "pygments_lexer": "ipython2",
   "version": "2.7.12"
  }
 },
 "nbformat": 4,
 "nbformat_minor": 1
}
